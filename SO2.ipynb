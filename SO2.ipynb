{
 "cells": [
  {
   "cell_type": "markdown",
   "id": "c7c4b6e8",
   "metadata": {},
   "source": [
    "adf test in Julia"
   ]
  },
  {
   "cell_type": "code",
   "execution_count": 3,
   "id": "e2e71e4e",
   "metadata": {},
   "outputs": [],
   "source": [
    "#import Pkg\n",
    "#Pkg.add(\"HypothesisTests\")\n",
    "#using HypothesisTests"
   ]
  },
  {
   "cell_type": "code",
   "execution_count": 4,
   "id": "ea3cfcbf",
   "metadata": {},
   "outputs": [],
   "source": [
    "using HypothesisTests"
   ]
  },
  {
   "cell_type": "code",
   "execution_count": 5,
   "id": "9af1300d",
   "metadata": {},
   "outputs": [],
   "source": [
    "FTSE = rand(20);"
   ]
  },
  {
   "cell_type": "code",
   "execution_count": 6,
   "id": "399da2d8",
   "metadata": {},
   "outputs": [],
   "source": [
    "log_return = diff(log.(FTSE));"
   ]
  },
  {
   "cell_type": "code",
   "execution_count": 9,
   "id": "5b4dc63b",
   "metadata": {},
   "outputs": [
    {
     "data": {
      "text/plain": [
       "Augmented Dickey-Fuller unit root test\n",
       "--------------------------------------\n",
       "Population details:\n",
       "    parameter of interest:   coefficient on lagged non-differenced variable\n",
       "    value under h_0:         0\n",
       "    point estimate:          -1.71095\n",
       "\n",
       "Test summary:\n",
       "    outcome with 95% confidence: reject h_0\n",
       "    p-value:                     0.0002\n",
       "\n",
       "Details:\n",
       "    sample size in regression:          17\n",
       "    number of lags:                     1\n",
       "    ADF statistic:                      -3.78973\n",
       "    Critical values at 1%, 5%, and 10%: [-2.69346 -1.95991 -1.60666]\n"
      ]
     },
     "execution_count": 9,
     "metadata": {},
     "output_type": "execute_result"
    }
   ],
   "source": [
    "ADFTest(log_return, :none, 1)"
   ]
  },
  {
   "cell_type": "markdown",
   "id": "27e938bb",
   "metadata": {},
   "source": [
    "for loop vectors of vector in julia"
   ]
  },
  {
   "cell_type": "code",
   "execution_count": 10,
   "id": "7321dd84",
   "metadata": {},
   "outputs": [
    {
     "data": {
      "text/plain": [
       "2-element Vector{Vector{Any}}:\n",
       " [1, [2, 3, 4]]\n",
       " [4, [-2, 1, 0]]"
      ]
     },
     "execution_count": 10,
     "metadata": {},
     "output_type": "execute_result"
    }
   ],
   "source": [
    "b =[[1, [2, 3, 4]], [4, [-2, 1, 0]]]"
   ]
  },
  {
   "cell_type": "code",
   "execution_count": 20,
   "id": "4255e30e",
   "metadata": {},
   "outputs": [
    {
     "name": "stdout",
     "output_type": "stream",
     "text": [
      "[2, 3, 4]\n",
      "[-2, 1, 0]\n"
     ]
    }
   ],
   "source": [
    "for i in 1:length(b)\n",
    "    println(b[i][2])\n",
    "end"
   ]
  },
  {
   "cell_type": "code",
   "execution_count": 21,
   "id": "b6c2fdd5",
   "metadata": {},
   "outputs": [
    {
     "name": "stdout",
     "output_type": "stream",
     "text": [
      "[2, 3, 4]\n",
      "[-2, 1, 0]\n"
     ]
    }
   ],
   "source": [
    "for (i, j) in b\n",
    "    println(j)\n",
    "end"
   ]
  },
  {
   "cell_type": "code",
   "execution_count": 23,
   "id": "72991093",
   "metadata": {},
   "outputs": [
    {
     "data": {
      "text/plain": [
       "2-element Vector{Vector{Int64}}:\n",
       " [2, 3, 4]\n",
       " [-2, 1, 0]"
      ]
     },
     "execution_count": 23,
     "metadata": {},
     "output_type": "execute_result"
    }
   ],
   "source": [
    "[j for (i,j) in b]"
   ]
  },
  {
   "cell_type": "code",
   "execution_count": 26,
   "id": "3ac4f9f7",
   "metadata": {},
   "outputs": [],
   "source": [
    "#Pkg.add(\"DataFrames\")"
   ]
  },
  {
   "cell_type": "markdown",
   "id": "11da6236",
   "metadata": {},
   "source": [
    "Reading Strings as Vectors Julia"
   ]
  },
  {
   "cell_type": "code",
   "execution_count": 27,
   "id": "3be59601",
   "metadata": {},
   "outputs": [
    {
     "name": "stderr",
     "output_type": "stream",
     "text": [
      "┌ Info: Precompiling DataFrames [a93c6f00-e57d-5684-b7b6-d8193f3e46c0]\n",
      "└ @ Base loading.jl:1423\n"
     ]
    },
    {
     "data": {
      "text/html": [
       "<div class=\"data-frame\"><p>1 rows × 2 columns</p><table class=\"data-frame\"><thead><tr><th></th><th>A</th><th>B</th></tr><tr><th></th><th title=\"String\">String</th><th title=\"String\">String</th></tr></thead><tbody><tr><th>1</th><td>[1,2]</td><td>[3,4]</td></tr></tbody></table></div>"
      ],
      "text/latex": [
       "\\begin{tabular}{r|cc}\n",
       "\t& A & B\\\\\n",
       "\t\\hline\n",
       "\t& String & String\\\\\n",
       "\t\\hline\n",
       "\t1 & [1,2] & [3,4] \\\\\n",
       "\\end{tabular}\n"
      ],
      "text/plain": [
       "\u001b[1m1×2 DataFrame\u001b[0m\n",
       "\u001b[1m Row \u001b[0m│\u001b[1m A      \u001b[0m\u001b[1m B      \u001b[0m\n",
       "\u001b[1m     \u001b[0m│\u001b[90m String \u001b[0m\u001b[90m String \u001b[0m\n",
       "─────┼────────────────\n",
       "   1 │ [1,2]   [3,4]"
      ]
     },
     "execution_count": 27,
     "metadata": {},
     "output_type": "execute_result"
    }
   ],
   "source": [
    "using DataFrames\n",
    "df = DataFrame(A = \"[1,2]\", B = \"[3,4]\")"
   ]
  },
  {
   "cell_type": "code",
   "execution_count": 34,
   "id": "525748aa",
   "metadata": {},
   "outputs": [
    {
     "data": {
      "text/html": [
       "<div class=\"data-frame\"><p>1 rows × 4 columns</p><table class=\"data-frame\"><thead><tr><th></th><th>A1</th><th>A2</th><th>B1</th><th>B2</th></tr><tr><th></th><th title=\"Int64\">Int64</th><th title=\"Int64\">Int64</th><th title=\"Int64\">Int64</th><th title=\"Int64\">Int64</th></tr></thead><tbody><tr><th>1</th><td>1</td><td>2</td><td>3</td><td>4</td></tr></tbody></table></div>"
      ],
      "text/latex": [
       "\\begin{tabular}{r|cccc}\n",
       "\t& A1 & A2 & B1 & B2\\\\\n",
       "\t\\hline\n",
       "\t& Int64 & Int64 & Int64 & Int64\\\\\n",
       "\t\\hline\n",
       "\t1 & 1 & 2 & 3 & 4 \\\\\n",
       "\\end{tabular}\n"
      ],
      "text/plain": [
       "\u001b[1m1×4 DataFrame\u001b[0m\n",
       "\u001b[1m Row \u001b[0m│\u001b[1m A1    \u001b[0m\u001b[1m A2    \u001b[0m\u001b[1m B1    \u001b[0m\u001b[1m B2    \u001b[0m\n",
       "\u001b[1m     \u001b[0m│\u001b[90m Int64 \u001b[0m\u001b[90m Int64 \u001b[0m\u001b[90m Int64 \u001b[0m\u001b[90m Int64 \u001b[0m\n",
       "─────┼────────────────────────────\n",
       "   1 │     1      2      3      4"
      ]
     },
     "execution_count": 34,
     "metadata": {},
     "output_type": "execute_result"
    }
   ],
   "source": [
    "select(df, [:A, :B] .=> ByRow(x -> parse.(Int, split(chop(x, head = 1, tail = 1), ','))) .=> [[:A1, :A2], [:B1, :B2]])"
   ]
  },
  {
   "cell_type": "markdown",
   "id": "024f6982",
   "metadata": {},
   "source": [
    "Multiple conditionals in Julia DataFrame"
   ]
  },
  {
   "cell_type": "code",
   "execution_count": 37,
   "id": "d955dcd0",
   "metadata": {},
   "outputs": [],
   "source": [
    "using DataFrames"
   ]
  },
  {
   "cell_type": "code",
   "execution_count": 50,
   "id": "0dac8889",
   "metadata": {},
   "outputs": [
    {
     "data": {
      "text/html": [
       "<div class=\"data-frame\"><p>10 rows × 2 columns</p><table class=\"data-frame\"><thead><tr><th></th><th>x</th><th>y</th></tr><tr><th></th><th title=\"Float64\">Float64</th><th title=\"Float64\">Float64</th></tr></thead><tbody><tr><th>1</th><td>0.737529</td><td>0.807888</td></tr><tr><th>2</th><td>0.870497</td><td>0.113911</td></tr><tr><th>3</th><td>0.784305</td><td>0.0529871</td></tr><tr><th>4</th><td>0.384902</td><td>0.172568</td></tr><tr><th>5</th><td>0.964384</td><td>0.737766</td></tr><tr><th>6</th><td>0.945547</td><td>0.0412254</td></tr><tr><th>7</th><td>0.19528</td><td>0.212468</td></tr><tr><th>8</th><td>0.0134503</td><td>0.395227</td></tr><tr><th>9</th><td>0.646366</td><td>0.144956</td></tr><tr><th>10</th><td>0.0805506</td><td>0.51632</td></tr></tbody></table></div>"
      ],
      "text/latex": [
       "\\begin{tabular}{r|cc}\n",
       "\t& x & y\\\\\n",
       "\t\\hline\n",
       "\t& Float64 & Float64\\\\\n",
       "\t\\hline\n",
       "\t1 & 0.737529 & 0.807888 \\\\\n",
       "\t2 & 0.870497 & 0.113911 \\\\\n",
       "\t3 & 0.784305 & 0.0529871 \\\\\n",
       "\t4 & 0.384902 & 0.172568 \\\\\n",
       "\t5 & 0.964384 & 0.737766 \\\\\n",
       "\t6 & 0.945547 & 0.0412254 \\\\\n",
       "\t7 & 0.19528 & 0.212468 \\\\\n",
       "\t8 & 0.0134503 & 0.395227 \\\\\n",
       "\t9 & 0.646366 & 0.144956 \\\\\n",
       "\t10 & 0.0805506 & 0.51632 \\\\\n",
       "\\end{tabular}\n"
      ],
      "text/plain": [
       "\u001b[1m10×2 DataFrame\u001b[0m\n",
       "\u001b[1m Row \u001b[0m│\u001b[1m x         \u001b[0m\u001b[1m y         \u001b[0m\n",
       "\u001b[1m     \u001b[0m│\u001b[90m Float64   \u001b[0m\u001b[90m Float64   \u001b[0m\n",
       "─────┼──────────────────────\n",
       "   1 │ 0.737529   0.807888\n",
       "   2 │ 0.870497   0.113911\n",
       "   3 │ 0.784305   0.0529871\n",
       "   4 │ 0.384902   0.172568\n",
       "   5 │ 0.964384   0.737766\n",
       "   6 │ 0.945547   0.0412254\n",
       "   7 │ 0.19528    0.212468\n",
       "   8 │ 0.0134503  0.395227\n",
       "   9 │ 0.646366   0.144956\n",
       "  10 │ 0.0805506  0.51632"
      ]
     },
     "execution_count": 50,
     "metadata": {},
     "output_type": "execute_result"
    }
   ],
   "source": [
    "df = DataFrame(rand(10, 2), [:x, :y])"
   ]
  },
  {
   "cell_type": "code",
   "execution_count": 51,
   "id": "c8452206",
   "metadata": {},
   "outputs": [],
   "source": [
    "df.z = df.x + df.y;"
   ]
  },
  {
   "cell_type": "code",
   "execution_count": 47,
   "id": "90df568b",
   "metadata": {},
   "outputs": [],
   "source": [
    "df.z[df.x .> 0.5 .&& df.y .> 0.5] .= 1.0;"
   ]
  },
  {
   "cell_type": "code",
   "execution_count": 52,
   "id": "994d553f",
   "metadata": {},
   "outputs": [
    {
     "name": "stdout",
     "output_type": "stream",
     "text": [
      "1.5454165955407442\n",
      "1.7021499320547442\n"
     ]
    }
   ],
   "source": [
    "for row in eachrow(df)\n",
    "    if row.x > 0.5 && row.y > 0.5\n",
    "        println(row.z)\n",
    "        row.z = 1.0\n",
    "    end\n",
    "end"
   ]
  },
  {
   "cell_type": "markdown",
   "id": "65cde63b",
   "metadata": {},
   "source": [
    "How do I populate dynamic arrays in Julia similar to Matlab"
   ]
  },
  {
   "cell_type": "code",
   "execution_count": 54,
   "id": "fd138e09",
   "metadata": {},
   "outputs": [
    {
     "data": {
      "text/plain": [
       "10-element Vector{Int64}:\n",
       "  1\n",
       "  2\n",
       "  3\n",
       "  4\n",
       "  5\n",
       "  6\n",
       "  7\n",
       "  8\n",
       "  9\n",
       " 10"
      ]
     },
     "execution_count": 54,
     "metadata": {},
     "output_type": "execute_result"
    }
   ],
   "source": [
    "x = [a for a = 1:10]\n",
    "x"
   ]
  },
  {
   "cell_type": "code",
   "execution_count": 58,
   "id": "c942712b",
   "metadata": {},
   "outputs": [
    {
     "data": {
      "text/plain": [
       "10-element Vector{Int64}:\n",
       "  1\n",
       "  2\n",
       "  3\n",
       "  4\n",
       "  5\n",
       "  6\n",
       "  7\n",
       "  8\n",
       "  9\n",
       " 10"
      ]
     },
     "execution_count": 58,
     "metadata": {},
     "output_type": "execute_result"
    }
   ],
   "source": [
    "x = [1:10;]"
   ]
  },
  {
   "cell_type": "markdown",
   "id": "d389b19c",
   "metadata": {},
   "source": [
    "Form a distance matrix in Julia"
   ]
  },
  {
   "cell_type": "code",
   "execution_count": 64,
   "id": "5be14707",
   "metadata": {},
   "outputs": [],
   "source": [
    "#Pkg.add(\"Distances\")\n",
    "using Distances"
   ]
  },
  {
   "cell_type": "code",
   "execution_count": 65,
   "id": "71ee4a64",
   "metadata": {},
   "outputs": [
    {
     "data": {
      "text/plain": [
       "20×122 Matrix{Float64}:\n",
       " 0.754435   0.594613   0.604507   …  0.209536   0.737745    0.277832\n",
       " 0.262027   0.337226   0.401494      0.226944   0.0277745   0.804945\n",
       " 0.0627521  0.700884   0.189538      0.570711   0.0241597   0.0846421\n",
       " 0.497427   0.518982   0.0623205     0.0324222  0.271927    0.369497\n",
       " 0.480729   0.0726501  0.694131      0.524374   0.790008    0.320861\n",
       " 0.0337378  0.306132   0.627675   …  0.138247   0.183525    0.279446\n",
       " 0.22392    0.856687   0.639036      0.119517   0.806066    0.0909288\n",
       " 0.117008   0.950847   0.90253       0.0976043  0.230244    0.771102\n",
       " 0.610388   0.117779   0.92585       0.584945   0.283316    0.999461\n",
       " 0.220938   0.518235   0.123894      0.32941    0.402729    0.428507\n",
       " 0.924376   0.226809   0.547434   …  0.783306   0.614875    0.798248\n",
       " 0.580855   0.36069    0.887259      0.84973    0.415841    0.039132\n",
       " 0.849085   0.791254   0.95177       0.586051   0.192109    0.0650159\n",
       " 0.413771   0.597132   0.781012      0.522491   0.254278    0.69138\n",
       " 0.63656    0.450345   0.583932      0.673014   0.878084    0.391153\n",
       " 0.787458   0.395777   0.44289    …  0.923721   0.693909    0.00447605\n",
       " 0.0203642  0.995864   0.321346      0.814001   0.136199    0.41403\n",
       " 0.112762   0.659646   0.365442      0.460555   0.00276873  0.370525\n",
       " 0.567906   0.0130968  0.110643      0.218299   0.444709    0.637414\n",
       " 0.798444   0.677453   0.977013      0.345737   0.868994    0.258245"
      ]
     },
     "execution_count": 65,
     "metadata": {},
     "output_type": "execute_result"
    }
   ],
   "source": [
    "p = rand(20, 122)"
   ]
  },
  {
   "cell_type": "code",
   "execution_count": 69,
   "id": "ff816549",
   "metadata": {},
   "outputs": [
    {
     "data": {
      "text/plain": [
       "122×122 Matrix{Float64}:\n",
       " 0.0      2.10703  1.56276  1.65954  …  1.29014  1.44222  1.1875   1.85936\n",
       " 2.10703  0.0      1.70955  1.86342     1.64421  1.82247  2.00573  2.07319\n",
       " 1.56276  1.70955  0.0      1.78373     1.48632  1.68401  1.71043  1.91312\n",
       " 1.65954  1.86342  1.78373  0.0         1.73831  1.82148  1.66262  1.67614\n",
       " 1.57195  1.8759   1.26958  1.61289     1.56223  1.80626  1.50191  1.58779\n",
       " 1.25031  1.55017  1.16753  1.33114  …  1.43905  1.67148  1.3968   1.56655\n",
       " 2.19272  1.8974   1.9644   2.31629     1.95148  1.96102  2.13363  1.70987\n",
       " 1.56979  1.97576  2.03432  1.74446     1.72928  1.91166  1.69515  1.88739\n",
       " 1.48011  2.02927  2.07274  1.88397     1.65508  1.94636  1.81334  1.46117\n",
       " 1.94575  1.85784  1.75463  1.81599     2.01667  2.10515  1.9549   1.60238\n",
       " 2.09463  1.58262  2.00794  1.79841  …  1.70734  1.87028  1.74947  1.80794\n",
       " 1.56334  1.77869  1.78289  2.04671     1.12046  1.35409  1.81697  1.8006\n",
       " 1.94698  2.11493  2.07206  2.06619     1.48755  2.00406  1.82772  1.65108\n",
       " ⋮                                   ⋱                    ⋮        \n",
       " 2.15711  1.38353  1.96707  1.89055  …  1.72422  1.95494  2.05538  2.16439\n",
       " 1.81139  2.08101  1.74224  1.92041     1.76415  1.9355   1.82513  1.98612\n",
       " 2.06763  1.95114  1.92196  2.33318     1.73925  2.23582  2.35788  1.84819\n",
       " 2.01365  1.82165  2.17004  2.09966     1.67273  1.72406  1.82578  2.1614\n",
       " 1.9395   1.90558  2.19613  2.19406     1.60645  1.77034  1.80071  2.44526\n",
       " 1.80125  1.34035  1.99528  1.58276  …  1.58579  1.74987  1.94397  1.58254\n",
       " 1.75062  1.77975  2.0166   1.97729     1.82903  1.82784  1.67519  1.88234\n",
       " 1.76638  1.95296  2.33243  1.67988     1.84336  2.05884  1.63793  1.83423\n",
       " 1.29014  1.64421  1.48632  1.73831     0.0      1.47254  1.47307  1.801\n",
       " 1.44222  1.82247  1.68401  1.82148     1.47254  0.0      1.69273  1.90242\n",
       " 1.1875   2.00573  1.71043  1.66262  …  1.47307  1.69273  0.0      2.02317\n",
       " 1.85936  2.07319  1.91312  1.67614     1.801    1.90242  2.02317  0.0"
      ]
     },
     "execution_count": 69,
     "metadata": {},
     "output_type": "execute_result"
    }
   ],
   "source": [
    "pairwise(Euclidean(), p)"
   ]
  },
  {
   "cell_type": "markdown",
   "id": "5bbbae0d",
   "metadata": {},
   "source": [
    "Pivoted QR in Julia?"
   ]
  },
  {
   "cell_type": "code",
   "execution_count": 71,
   "id": "27fee162",
   "metadata": {},
   "outputs": [],
   "source": [
    "A = 10*log.(1 .- rand(4,3));"
   ]
  },
  {
   "cell_type": "code",
   "execution_count": 83,
   "id": "26f436c9",
   "metadata": {},
   "outputs": [],
   "source": [
    "using LinearAlgebra"
   ]
  },
  {
   "cell_type": "code",
   "execution_count": 84,
   "id": "d9f0a260",
   "metadata": {},
   "outputs": [
    {
     "data": {
      "text/plain": [
       "QRPivoted{Float64, Matrix{Float64}}\n",
       "Q factor:\n",
       "4×4 LinearAlgebra.QRPackedQ{Float64, Matrix{Float64}}:\n",
       " -0.274133   0.872332   0.327835  -0.237514\n",
       " -0.372585  -0.174148  -0.430322  -0.803539\n",
       " -0.282443   0.328309  -0.768333   0.471278\n",
       " -0.840391  -0.317684   0.342069   0.275334\n",
       "R factor:\n",
       "3×3 Matrix{Float64}:\n",
       " 42.5229   18.5497   4.86152\n",
       "  0.0     -36.995   -3.23907\n",
       "  0.0       0.0      7.74627\n",
       "permutation:\n",
       "3-element Vector{Int64}:\n",
       " 3\n",
       " 1\n",
       " 2"
      ]
     },
     "execution_count": 84,
     "metadata": {},
     "output_type": "execute_result"
    }
   ],
   "source": [
    "qr(A, ColumnNorm())"
   ]
  },
  {
   "cell_type": "markdown",
   "id": "e019e6bd",
   "metadata": {},
   "source": [
    "How to use `endswith()` against multiple values in Julia?"
   ]
  },
  {
   "cell_type": "code",
   "execution_count": 89,
   "id": "efa40e37",
   "metadata": {},
   "outputs": [
    {
     "data": {
      "text/plain": [
       "3-element BitVector:\n",
       " 0\n",
       " 1\n",
       " 0"
      ]
     },
     "execution_count": 89,
     "metadata": {},
     "output_type": "execute_result"
    }
   ],
   "source": [
    "endswith.(\"abcd\", [\"ab\", \"cd\", \"ef\"])"
   ]
  },
  {
   "cell_type": "markdown",
   "id": "91a67809",
   "metadata": {},
   "source": [
    "Round to next largest integer in Julia?"
   ]
  },
  {
   "cell_type": "code",
   "execution_count": 90,
   "id": "e7a92531",
   "metadata": {},
   "outputs": [
    {
     "data": {
      "text/plain": [
       "2"
      ]
     },
     "execution_count": 90,
     "metadata": {},
     "output_type": "execute_result"
    }
   ],
   "source": [
    "ceil(Int, 1.2)"
   ]
  },
  {
   "cell_type": "markdown",
   "id": "8f2cd6e7",
   "metadata": {},
   "source": [
    "Basic OOP questions in Julia"
   ]
  },
  {
   "cell_type": "code",
   "execution_count": 91,
   "id": "0f5c4236",
   "metadata": {},
   "outputs": [],
   "source": [
    "struct MyStruct\n",
    "    a::Int\n",
    "    b::Int\n",
    "end"
   ]
  },
  {
   "cell_type": "code",
   "execution_count": 98,
   "id": "1cf30b70",
   "metadata": {},
   "outputs": [
    {
     "data": {
      "text/plain": [
       "MyStruct"
      ]
     },
     "execution_count": 98,
     "metadata": {},
     "output_type": "execute_result"
    }
   ],
   "source": [
    "function MyStruct(a)\n",
    "    MyStruct(2a, 3a)\n",
    "end\n",
    "\n",
    "function MyStruct(a::Int = 7; mult =(2,3))\n",
    "    MyStruct(a*mult[1], a*mult[2])\n",
    "end"
   ]
  },
  {
   "cell_type": "code",
   "execution_count": 96,
   "id": "4c9dd2b2",
   "metadata": {},
   "outputs": [
    {
     "data": {
      "text/plain": [
       "MyStruct(10, 15)"
      ]
     },
     "execution_count": 96,
     "metadata": {},
     "output_type": "execute_result"
    }
   ],
   "source": [
    "MyStruct(5)"
   ]
  },
  {
   "cell_type": "code",
   "execution_count": 99,
   "id": "2551368d",
   "metadata": {},
   "outputs": [
    {
     "data": {
      "text/plain": [
       "MyStruct(14, 21)"
      ]
     },
     "execution_count": 99,
     "metadata": {},
     "output_type": "execute_result"
    }
   ],
   "source": [
    "MyStruct()"
   ]
  },
  {
   "cell_type": "code",
   "execution_count": null,
   "id": "d5f01dcc",
   "metadata": {},
   "outputs": [],
   "source": []
  }
 ],
 "metadata": {
  "kernelspec": {
   "display_name": "Julia 1.7.3",
   "language": "julia",
   "name": "julia-1.7"
  },
  "language_info": {
   "file_extension": ".jl",
   "mimetype": "application/julia",
   "name": "julia",
   "version": "1.7.3"
  }
 },
 "nbformat": 4,
 "nbformat_minor": 5
}
