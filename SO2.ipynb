{
 "cells": [
  {
   "cell_type": "markdown",
   "id": "3726bf08",
   "metadata": {},
   "source": [
    "adf test in Julia"
   ]
  },
  {
   "cell_type": "code",
   "execution_count": 3,
   "id": "95d5ece7",
   "metadata": {},
   "outputs": [],
   "source": [
    "#import Pkg\n",
    "#Pkg.add(\"HypothesisTests\")\n",
    "#using HypothesisTests"
   ]
  },
  {
   "cell_type": "code",
   "execution_count": 4,
   "id": "7b0ae32b",
   "metadata": {},
   "outputs": [],
   "source": [
    "using HypothesisTests"
   ]
  },
  {
   "cell_type": "code",
   "execution_count": 5,
   "id": "1cf2a3fc",
   "metadata": {},
   "outputs": [],
   "source": [
    "FTSE = rand(20);"
   ]
  },
  {
   "cell_type": "code",
   "execution_count": 6,
   "id": "6e6e9471",
   "metadata": {},
   "outputs": [],
   "source": [
    "log_return = diff(log.(FTSE));"
   ]
  },
  {
   "cell_type": "code",
   "execution_count": 9,
   "id": "a9cb5584",
   "metadata": {},
   "outputs": [
    {
     "data": {
      "text/plain": [
       "Augmented Dickey-Fuller unit root test\n",
       "--------------------------------------\n",
       "Population details:\n",
       "    parameter of interest:   coefficient on lagged non-differenced variable\n",
       "    value under h_0:         0\n",
       "    point estimate:          -1.71095\n",
       "\n",
       "Test summary:\n",
       "    outcome with 95% confidence: reject h_0\n",
       "    p-value:                     0.0002\n",
       "\n",
       "Details:\n",
       "    sample size in regression:          17\n",
       "    number of lags:                     1\n",
       "    ADF statistic:                      -3.78973\n",
       "    Critical values at 1%, 5%, and 10%: [-2.69346 -1.95991 -1.60666]\n"
      ]
     },
     "execution_count": 9,
     "metadata": {},
     "output_type": "execute_result"
    }
   ],
   "source": [
    "ADFTest(log_return, :none, 1)"
   ]
  },
  {
   "cell_type": "markdown",
   "id": "28a1a074",
   "metadata": {},
   "source": [
    "for loop vectors of vector in julia"
   ]
  },
  {
   "cell_type": "code",
   "execution_count": 10,
   "id": "b3315af1",
   "metadata": {},
   "outputs": [
    {
     "data": {
      "text/plain": [
       "2-element Vector{Vector{Any}}:\n",
       " [1, [2, 3, 4]]\n",
       " [4, [-2, 1, 0]]"
      ]
     },
     "execution_count": 10,
     "metadata": {},
     "output_type": "execute_result"
    }
   ],
   "source": [
    "b =[[1, [2, 3, 4]], [4, [-2, 1, 0]]]"
   ]
  },
  {
   "cell_type": "code",
   "execution_count": 20,
   "id": "242a4324",
   "metadata": {},
   "outputs": [
    {
     "name": "stdout",
     "output_type": "stream",
     "text": [
      "[2, 3, 4]\n",
      "[-2, 1, 0]\n"
     ]
    }
   ],
   "source": [
    "for i in 1:length(b)\n",
    "    println(b[i][2])\n",
    "end"
   ]
  },
  {
   "cell_type": "code",
   "execution_count": 21,
   "id": "a13d1e1c",
   "metadata": {},
   "outputs": [
    {
     "name": "stdout",
     "output_type": "stream",
     "text": [
      "[2, 3, 4]\n",
      "[-2, 1, 0]\n"
     ]
    }
   ],
   "source": [
    "for (i, j) in b\n",
    "    println(j)\n",
    "end"
   ]
  },
  {
   "cell_type": "code",
   "execution_count": 23,
   "id": "6cdd734c",
   "metadata": {},
   "outputs": [
    {
     "data": {
      "text/plain": [
       "2-element Vector{Vector{Int64}}:\n",
       " [2, 3, 4]\n",
       " [-2, 1, 0]"
      ]
     },
     "execution_count": 23,
     "metadata": {},
     "output_type": "execute_result"
    }
   ],
   "source": [
    "[j for (i,j) in b]"
   ]
  },
  {
   "cell_type": "code",
   "execution_count": 26,
   "id": "27835a85",
   "metadata": {},
   "outputs": [],
   "source": [
    "#Pkg.add(\"DataFrames\")"
   ]
  },
  {
   "cell_type": "markdown",
   "id": "d9b66d36",
   "metadata": {},
   "source": [
    "Reading Strings as Vectors Julia"
   ]
  },
  {
   "cell_type": "code",
   "execution_count": 27,
   "id": "2ac28b65",
   "metadata": {},
   "outputs": [
    {
     "name": "stderr",
     "output_type": "stream",
     "text": [
      "┌ Info: Precompiling DataFrames [a93c6f00-e57d-5684-b7b6-d8193f3e46c0]\n",
      "└ @ Base loading.jl:1423\n"
     ]
    },
    {
     "data": {
      "text/html": [
       "<div class=\"data-frame\"><p>1 rows × 2 columns</p><table class=\"data-frame\"><thead><tr><th></th><th>A</th><th>B</th></tr><tr><th></th><th title=\"String\">String</th><th title=\"String\">String</th></tr></thead><tbody><tr><th>1</th><td>[1,2]</td><td>[3,4]</td></tr></tbody></table></div>"
      ],
      "text/latex": [
       "\\begin{tabular}{r|cc}\n",
       "\t& A & B\\\\\n",
       "\t\\hline\n",
       "\t& String & String\\\\\n",
       "\t\\hline\n",
       "\t1 & [1,2] & [3,4] \\\\\n",
       "\\end{tabular}\n"
      ],
      "text/plain": [
       "\u001b[1m1×2 DataFrame\u001b[0m\n",
       "\u001b[1m Row \u001b[0m│\u001b[1m A      \u001b[0m\u001b[1m B      \u001b[0m\n",
       "\u001b[1m     \u001b[0m│\u001b[90m String \u001b[0m\u001b[90m String \u001b[0m\n",
       "─────┼────────────────\n",
       "   1 │ [1,2]   [3,4]"
      ]
     },
     "execution_count": 27,
     "metadata": {},
     "output_type": "execute_result"
    }
   ],
   "source": [
    "using DataFrames\n",
    "df = DataFrame(A = \"[1,2]\", B = \"[3,4]\")"
   ]
  },
  {
   "cell_type": "code",
   "execution_count": 34,
   "id": "e5f485d4",
   "metadata": {},
   "outputs": [
    {
     "data": {
      "text/html": [
       "<div class=\"data-frame\"><p>1 rows × 4 columns</p><table class=\"data-frame\"><thead><tr><th></th><th>A1</th><th>A2</th><th>B1</th><th>B2</th></tr><tr><th></th><th title=\"Int64\">Int64</th><th title=\"Int64\">Int64</th><th title=\"Int64\">Int64</th><th title=\"Int64\">Int64</th></tr></thead><tbody><tr><th>1</th><td>1</td><td>2</td><td>3</td><td>4</td></tr></tbody></table></div>"
      ],
      "text/latex": [
       "\\begin{tabular}{r|cccc}\n",
       "\t& A1 & A2 & B1 & B2\\\\\n",
       "\t\\hline\n",
       "\t& Int64 & Int64 & Int64 & Int64\\\\\n",
       "\t\\hline\n",
       "\t1 & 1 & 2 & 3 & 4 \\\\\n",
       "\\end{tabular}\n"
      ],
      "text/plain": [
       "\u001b[1m1×4 DataFrame\u001b[0m\n",
       "\u001b[1m Row \u001b[0m│\u001b[1m A1    \u001b[0m\u001b[1m A2    \u001b[0m\u001b[1m B1    \u001b[0m\u001b[1m B2    \u001b[0m\n",
       "\u001b[1m     \u001b[0m│\u001b[90m Int64 \u001b[0m\u001b[90m Int64 \u001b[0m\u001b[90m Int64 \u001b[0m\u001b[90m Int64 \u001b[0m\n",
       "─────┼────────────────────────────\n",
       "   1 │     1      2      3      4"
      ]
     },
     "execution_count": 34,
     "metadata": {},
     "output_type": "execute_result"
    }
   ],
   "source": [
    "select(df, [:A, :B] .=> ByRow(x -> parse.(Int, split(chop(x, head = 1, tail = 1), ','))) .=> [[:A1, :A2], [:B1, :B2]])"
   ]
  },
  {
   "cell_type": "code",
   "execution_count": 36,
   "id": "345ef732",
   "metadata": {},
   "outputs": [
    {
     "name": "stdout",
     "output_type": "stream",
     "text": [
      "search: \u001b[0m\u001b[1mc\u001b[22m\u001b[0m\u001b[1mh\u001b[22m\u001b[0m\u001b[1mo\u001b[22m\u001b[0m\u001b[1mp\u001b[22m \u001b[0m\u001b[1mc\u001b[22m\u001b[0m\u001b[1mh\u001b[22m\u001b[0m\u001b[1mo\u001b[22mm\u001b[0m\u001b[1mp\u001b[22m read\u001b[0m\u001b[1mc\u001b[22m\u001b[0m\u001b[1mh\u001b[22m\u001b[0m\u001b[1mo\u001b[22mm\u001b[0m\u001b[1mp\u001b[22m \u001b[0m\u001b[1mc\u001b[22m\u001b[0m\u001b[1mh\u001b[22m\u001b[0m\u001b[1mo\u001b[22mwn \u001b[0m\u001b[1mc\u001b[22m\u001b[0m\u001b[1mh\u001b[22mm\u001b[0m\u001b[1mo\u001b[22md \u001b[0m\u001b[1mC\u001b[22ms\u001b[0m\u001b[1mh\u001b[22m\u001b[0m\u001b[1mo\u001b[22mrt ea\u001b[0m\u001b[1mc\u001b[22m\u001b[0m\u001b[1mh\u001b[22mr\u001b[0m\u001b[1mo\u001b[22mw ea\u001b[0m\u001b[1mc\u001b[22m\u001b[0m\u001b[1mh\u001b[22mc\u001b[0m\u001b[1mo\u001b[22ml sear\u001b[0m\u001b[1mc\u001b[22m\u001b[0m\u001b[1mh\u001b[22ms\u001b[0m\u001b[1mo\u001b[22mrted\n",
      "\n"
     ]
    },
    {
     "data": {
      "text/latex": [
       "\\begin{verbatim}\n",
       "chop(s::AbstractString; head::Integer = 0, tail::Integer = 1)\n",
       "\\end{verbatim}\n",
       "Remove the first \\texttt{head} and the last \\texttt{tail} characters from \\texttt{s}. The call \\texttt{chop(s)} removes the last character from \\texttt{s}. If it is requested to remove more characters than \\texttt{length(s)} then an empty string is returned.\n",
       "\n",
       "See also \\href{@ref}{\\texttt{chomp}}, \\href{@ref}{\\texttt{startswith}}, \\href{@ref}{\\texttt{first}}.\n",
       "\n",
       "\\section{Examples}\n",
       "\\begin{verbatim}\n",
       "julia> a = \"March\"\n",
       "\"March\"\n",
       "\n",
       "julia> chop(a)\n",
       "\"Marc\"\n",
       "\n",
       "julia> chop(a, head = 1, tail = 2)\n",
       "\"ar\"\n",
       "\n",
       "julia> chop(a, head = 5, tail = 5)\n",
       "\"\"\n",
       "\\end{verbatim}\n"
      ],
      "text/markdown": [
       "```\n",
       "chop(s::AbstractString; head::Integer = 0, tail::Integer = 1)\n",
       "```\n",
       "\n",
       "Remove the first `head` and the last `tail` characters from `s`. The call `chop(s)` removes the last character from `s`. If it is requested to remove more characters than `length(s)` then an empty string is returned.\n",
       "\n",
       "See also [`chomp`](@ref), [`startswith`](@ref), [`first`](@ref).\n",
       "\n",
       "# Examples\n",
       "\n",
       "```jldoctest\n",
       "julia> a = \"March\"\n",
       "\"March\"\n",
       "\n",
       "julia> chop(a)\n",
       "\"Marc\"\n",
       "\n",
       "julia> chop(a, head = 1, tail = 2)\n",
       "\"ar\"\n",
       "\n",
       "julia> chop(a, head = 5, tail = 5)\n",
       "\"\"\n",
       "```\n"
      ],
      "text/plain": [
       "\u001b[36m  chop(s::AbstractString; head::Integer = 0, tail::Integer = 1)\u001b[39m\n",
       "\n",
       "  Remove the first \u001b[36mhead\u001b[39m and the last \u001b[36mtail\u001b[39m characters from \u001b[36ms\u001b[39m. The call \u001b[36mchop(s)\u001b[39m\n",
       "  removes the last character from \u001b[36ms\u001b[39m. If it is requested to remove more\n",
       "  characters than \u001b[36mlength(s)\u001b[39m then an empty string is returned.\n",
       "\n",
       "  See also \u001b[36mchomp\u001b[39m, \u001b[36mstartswith\u001b[39m, \u001b[36mfirst\u001b[39m.\n",
       "\n",
       "\u001b[1m  Examples\u001b[22m\n",
       "\u001b[1m  ≡≡≡≡≡≡≡≡≡≡\u001b[22m\n",
       "\n",
       "\u001b[36m  julia> a = \"March\"\u001b[39m\n",
       "\u001b[36m  \"March\"\u001b[39m\n",
       "\u001b[36m  \u001b[39m\n",
       "\u001b[36m  julia> chop(a)\u001b[39m\n",
       "\u001b[36m  \"Marc\"\u001b[39m\n",
       "\u001b[36m  \u001b[39m\n",
       "\u001b[36m  julia> chop(a, head = 1, tail = 2)\u001b[39m\n",
       "\u001b[36m  \"ar\"\u001b[39m\n",
       "\u001b[36m  \u001b[39m\n",
       "\u001b[36m  julia> chop(a, head = 5, tail = 5)\u001b[39m\n",
       "\u001b[36m  \"\"\u001b[39m"
      ]
     },
     "execution_count": 36,
     "metadata": {},
     "output_type": "execute_result"
    }
   ],
   "source": []
  }
 ],
 "metadata": {
  "kernelspec": {
   "display_name": "Julia 1.7.3",
   "language": "julia",
   "name": "julia-1.7"
  },
  "language_info": {
   "file_extension": ".jl",
   "mimetype": "application/julia",
   "name": "julia",
   "version": "1.7.3"
  }
 },
 "nbformat": 4,
 "nbformat_minor": 5
}
