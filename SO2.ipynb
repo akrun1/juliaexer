{
 "cells": [
  {
   "cell_type": "markdown",
   "id": "3f182fc2",
   "metadata": {},
   "source": [
    "adf test in Julia"
   ]
  },
  {
   "cell_type": "code",
   "execution_count": 3,
   "id": "40d6955f",
   "metadata": {},
   "outputs": [],
   "source": [
    "#import Pkg\n",
    "#Pkg.add(\"HypothesisTests\")\n",
    "#using HypothesisTests"
   ]
  },
  {
   "cell_type": "code",
   "execution_count": 4,
   "id": "5afe27c1",
   "metadata": {},
   "outputs": [],
   "source": [
    "using HypothesisTests"
   ]
  },
  {
   "cell_type": "code",
   "execution_count": 5,
   "id": "a328eb2f",
   "metadata": {},
   "outputs": [],
   "source": [
    "FTSE = rand(20);"
   ]
  },
  {
   "cell_type": "code",
   "execution_count": 6,
   "id": "8b71bbd6",
   "metadata": {},
   "outputs": [],
   "source": [
    "log_return = diff(log.(FTSE));"
   ]
  },
  {
   "cell_type": "code",
   "execution_count": 9,
   "id": "36f9d544",
   "metadata": {},
   "outputs": [
    {
     "data": {
      "text/plain": [
       "Augmented Dickey-Fuller unit root test\n",
       "--------------------------------------\n",
       "Population details:\n",
       "    parameter of interest:   coefficient on lagged non-differenced variable\n",
       "    value under h_0:         0\n",
       "    point estimate:          -1.71095\n",
       "\n",
       "Test summary:\n",
       "    outcome with 95% confidence: reject h_0\n",
       "    p-value:                     0.0002\n",
       "\n",
       "Details:\n",
       "    sample size in regression:          17\n",
       "    number of lags:                     1\n",
       "    ADF statistic:                      -3.78973\n",
       "    Critical values at 1%, 5%, and 10%: [-2.69346 -1.95991 -1.60666]\n"
      ]
     },
     "execution_count": 9,
     "metadata": {},
     "output_type": "execute_result"
    }
   ],
   "source": [
    "ADFTest(log_return, :none, 1)"
   ]
  },
  {
   "cell_type": "markdown",
   "id": "74fcb1e7",
   "metadata": {},
   "source": [
    "for loop vectors of vector in julia"
   ]
  },
  {
   "cell_type": "code",
   "execution_count": 10,
   "id": "5c95a072",
   "metadata": {},
   "outputs": [
    {
     "data": {
      "text/plain": [
       "2-element Vector{Vector{Any}}:\n",
       " [1, [2, 3, 4]]\n",
       " [4, [-2, 1, 0]]"
      ]
     },
     "execution_count": 10,
     "metadata": {},
     "output_type": "execute_result"
    }
   ],
   "source": [
    "b =[[1, [2, 3, 4]], [4, [-2, 1, 0]]]"
   ]
  },
  {
   "cell_type": "code",
   "execution_count": 20,
   "id": "ebc98786",
   "metadata": {},
   "outputs": [
    {
     "name": "stdout",
     "output_type": "stream",
     "text": [
      "[2, 3, 4]\n",
      "[-2, 1, 0]\n"
     ]
    }
   ],
   "source": [
    "for i in 1:length(b)\n",
    "    println(b[i][2])\n",
    "end"
   ]
  },
  {
   "cell_type": "code",
   "execution_count": 21,
   "id": "97b28990",
   "metadata": {},
   "outputs": [
    {
     "name": "stdout",
     "output_type": "stream",
     "text": [
      "[2, 3, 4]\n",
      "[-2, 1, 0]\n"
     ]
    }
   ],
   "source": [
    "for (i, j) in b\n",
    "    println(j)\n",
    "end"
   ]
  },
  {
   "cell_type": "code",
   "execution_count": 23,
   "id": "3c2826e4",
   "metadata": {},
   "outputs": [
    {
     "data": {
      "text/plain": [
       "2-element Vector{Vector{Int64}}:\n",
       " [2, 3, 4]\n",
       " [-2, 1, 0]"
      ]
     },
     "execution_count": 23,
     "metadata": {},
     "output_type": "execute_result"
    }
   ],
   "source": [
    "[j for (i,j) in b]"
   ]
  },
  {
   "cell_type": "code",
   "execution_count": 26,
   "id": "d9ed2cfa",
   "metadata": {},
   "outputs": [],
   "source": [
    "#Pkg.add(\"DataFrames\")"
   ]
  },
  {
   "cell_type": "markdown",
   "id": "a6188107",
   "metadata": {},
   "source": [
    "Reading Strings as Vectors Julia"
   ]
  },
  {
   "cell_type": "code",
   "execution_count": 27,
   "id": "6412ab39",
   "metadata": {},
   "outputs": [
    {
     "name": "stderr",
     "output_type": "stream",
     "text": [
      "┌ Info: Precompiling DataFrames [a93c6f00-e57d-5684-b7b6-d8193f3e46c0]\n",
      "└ @ Base loading.jl:1423\n"
     ]
    },
    {
     "data": {
      "text/html": [
       "<div class=\"data-frame\"><p>1 rows × 2 columns</p><table class=\"data-frame\"><thead><tr><th></th><th>A</th><th>B</th></tr><tr><th></th><th title=\"String\">String</th><th title=\"String\">String</th></tr></thead><tbody><tr><th>1</th><td>[1,2]</td><td>[3,4]</td></tr></tbody></table></div>"
      ],
      "text/latex": [
       "\\begin{tabular}{r|cc}\n",
       "\t& A & B\\\\\n",
       "\t\\hline\n",
       "\t& String & String\\\\\n",
       "\t\\hline\n",
       "\t1 & [1,2] & [3,4] \\\\\n",
       "\\end{tabular}\n"
      ],
      "text/plain": [
       "\u001b[1m1×2 DataFrame\u001b[0m\n",
       "\u001b[1m Row \u001b[0m│\u001b[1m A      \u001b[0m\u001b[1m B      \u001b[0m\n",
       "\u001b[1m     \u001b[0m│\u001b[90m String \u001b[0m\u001b[90m String \u001b[0m\n",
       "─────┼────────────────\n",
       "   1 │ [1,2]   [3,4]"
      ]
     },
     "execution_count": 27,
     "metadata": {},
     "output_type": "execute_result"
    }
   ],
   "source": [
    "using DataFrames\n",
    "df = DataFrame(A = \"[1,2]\", B = \"[3,4]\")"
   ]
  },
  {
   "cell_type": "code",
   "execution_count": 34,
   "id": "323627ce",
   "metadata": {},
   "outputs": [
    {
     "data": {
      "text/html": [
       "<div class=\"data-frame\"><p>1 rows × 4 columns</p><table class=\"data-frame\"><thead><tr><th></th><th>A1</th><th>A2</th><th>B1</th><th>B2</th></tr><tr><th></th><th title=\"Int64\">Int64</th><th title=\"Int64\">Int64</th><th title=\"Int64\">Int64</th><th title=\"Int64\">Int64</th></tr></thead><tbody><tr><th>1</th><td>1</td><td>2</td><td>3</td><td>4</td></tr></tbody></table></div>"
      ],
      "text/latex": [
       "\\begin{tabular}{r|cccc}\n",
       "\t& A1 & A2 & B1 & B2\\\\\n",
       "\t\\hline\n",
       "\t& Int64 & Int64 & Int64 & Int64\\\\\n",
       "\t\\hline\n",
       "\t1 & 1 & 2 & 3 & 4 \\\\\n",
       "\\end{tabular}\n"
      ],
      "text/plain": [
       "\u001b[1m1×4 DataFrame\u001b[0m\n",
       "\u001b[1m Row \u001b[0m│\u001b[1m A1    \u001b[0m\u001b[1m A2    \u001b[0m\u001b[1m B1    \u001b[0m\u001b[1m B2    \u001b[0m\n",
       "\u001b[1m     \u001b[0m│\u001b[90m Int64 \u001b[0m\u001b[90m Int64 \u001b[0m\u001b[90m Int64 \u001b[0m\u001b[90m Int64 \u001b[0m\n",
       "─────┼────────────────────────────\n",
       "   1 │     1      2      3      4"
      ]
     },
     "execution_count": 34,
     "metadata": {},
     "output_type": "execute_result"
    }
   ],
   "source": [
    "select(df, [:A, :B] .=> ByRow(x -> parse.(Int, split(chop(x, head = 1, tail = 1), ','))) .=> [[:A1, :A2], [:B1, :B2]])"
   ]
  },
  {
   "cell_type": "markdown",
   "id": "b27ae7c9",
   "metadata": {},
   "source": [
    "Multiple conditionals in Julia DataFrame"
   ]
  },
  {
   "cell_type": "code",
   "execution_count": 37,
   "id": "06deb16d",
   "metadata": {},
   "outputs": [],
   "source": [
    "using DataFrames"
   ]
  },
  {
   "cell_type": "code",
   "execution_count": 49,
   "id": "106f7b5b",
   "metadata": {},
   "outputs": [
    {
     "data": {
      "text/html": [
       "<div class=\"data-frame\"><p>10 rows × 2 columns</p><table class=\"data-frame\"><thead><tr><th></th><th>x</th><th>y</th></tr><tr><th></th><th title=\"Float64\">Float64</th><th title=\"Float64\">Float64</th></tr></thead><tbody><tr><th>1</th><td>0.943841</td><td>0.175854</td></tr><tr><th>2</th><td>0.756481</td><td>0.878907</td></tr><tr><th>3</th><td>0.689546</td><td>0.66873</td></tr><tr><th>4</th><td>0.270194</td><td>0.966094</td></tr><tr><th>5</th><td>0.528031</td><td>0.0431191</td></tr><tr><th>6</th><td>0.36482</td><td>0.747502</td></tr><tr><th>7</th><td>0.409334</td><td>0.824703</td></tr><tr><th>8</th><td>0.134019</td><td>0.856853</td></tr><tr><th>9</th><td>0.432322</td><td>0.890546</td></tr><tr><th>10</th><td>0.95347</td><td>0.923604</td></tr></tbody></table></div>"
      ],
      "text/latex": [
       "\\begin{tabular}{r|cc}\n",
       "\t& x & y\\\\\n",
       "\t\\hline\n",
       "\t& Float64 & Float64\\\\\n",
       "\t\\hline\n",
       "\t1 & 0.943841 & 0.175854 \\\\\n",
       "\t2 & 0.756481 & 0.878907 \\\\\n",
       "\t3 & 0.689546 & 0.66873 \\\\\n",
       "\t4 & 0.270194 & 0.966094 \\\\\n",
       "\t5 & 0.528031 & 0.0431191 \\\\\n",
       "\t6 & 0.36482 & 0.747502 \\\\\n",
       "\t7 & 0.409334 & 0.824703 \\\\\n",
       "\t8 & 0.134019 & 0.856853 \\\\\n",
       "\t9 & 0.432322 & 0.890546 \\\\\n",
       "\t10 & 0.95347 & 0.923604 \\\\\n",
       "\\end{tabular}\n"
      ],
      "text/plain": [
       "\u001b[1m10×2 DataFrame\u001b[0m\n",
       "\u001b[1m Row \u001b[0m│\u001b[1m x        \u001b[0m\u001b[1m y         \u001b[0m\n",
       "\u001b[1m     \u001b[0m│\u001b[90m Float64  \u001b[0m\u001b[90m Float64   \u001b[0m\n",
       "─────┼─────────────────────\n",
       "   1 │ 0.943841  0.175854\n",
       "   2 │ 0.756481  0.878907\n",
       "   3 │ 0.689546  0.66873\n",
       "   4 │ 0.270194  0.966094\n",
       "   5 │ 0.528031  0.0431191\n",
       "   6 │ 0.36482   0.747502\n",
       "   7 │ 0.409334  0.824703\n",
       "   8 │ 0.134019  0.856853\n",
       "   9 │ 0.432322  0.890546\n",
       "  10 │ 0.95347   0.923604"
      ]
     },
     "execution_count": 49,
     "metadata": {},
     "output_type": "execute_result"
    }
   ],
   "source": [
    "df = DataFrame(rand(10, 2), [:x, :y])"
   ]
  },
  {
   "cell_type": "code",
   "execution_count": 42,
   "id": "2ae37cf0",
   "metadata": {},
   "outputs": [],
   "source": [
    "df.z = df.x + df.y;"
   ]
  },
  {
   "cell_type": "code",
   "execution_count": 47,
   "id": "b3cf0ff4",
   "metadata": {},
   "outputs": [],
   "source": [
    "df.z[df.x .> 0.5 .&& df.y .> 0.5] .= 1.0;"
   ]
  },
  {
   "cell_type": "code",
   "execution_count": null,
   "id": "8bc5a231",
   "metadata": {},
   "outputs": [],
   "source": []
  }
 ],
 "metadata": {
  "kernelspec": {
   "display_name": "Julia 1.7.3",
   "language": "julia",
   "name": "julia-1.7"
  },
  "language_info": {
   "file_extension": ".jl",
   "mimetype": "application/julia",
   "name": "julia",
   "version": "1.7.3"
  }
 },
 "nbformat": 4,
 "nbformat_minor": 5
}
