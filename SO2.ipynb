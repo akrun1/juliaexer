{
 "cells": [
  {
   "cell_type": "markdown",
   "id": "99558c0d",
   "metadata": {},
   "source": [
    "adf test in Julia"
   ]
  },
  {
   "cell_type": "code",
   "execution_count": 3,
   "id": "2b018c40",
   "metadata": {},
   "outputs": [],
   "source": [
    "#import Pkg\n",
    "#Pkg.add(\"HypothesisTests\")\n",
    "#using HypothesisTests"
   ]
  },
  {
   "cell_type": "code",
   "execution_count": 4,
   "id": "9a2fd561",
   "metadata": {},
   "outputs": [],
   "source": [
    "using HypothesisTests"
   ]
  }
 ],
 "metadata": {
  "kernelspec": {
   "display_name": "Julia 1.7.3",
   "language": "julia",
   "name": "julia-1.7"
  },
  "language_info": {
   "file_extension": ".jl",
   "mimetype": "application/julia",
   "name": "julia",
   "version": "1.7.3"
  }
 },
 "nbformat": 4,
 "nbformat_minor": 5
}
